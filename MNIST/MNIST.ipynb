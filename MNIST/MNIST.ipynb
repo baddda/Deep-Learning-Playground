{
 "cells": [
  {
   "cell_type": "code",
   "execution_count": 1,
   "metadata": {},
   "outputs": [
    {
     "name": "stderr",
     "output_type": "stream",
     "text": [
      "Using TensorFlow backend.\n"
     ]
    }
   ],
   "source": [
    "import keras\n",
    "from keras.datasets import mnist\n",
    "from keras import models\n",
    "from keras import layers\n",
    "from keras import optimizers\n",
    "import numpy as np\n",
    "import matplotlib.pyplot as plt\n",
    "from keras.utils.np_utils import to_categorical"
   ]
  },
  {
   "cell_type": "code",
   "execution_count": 2,
   "metadata": {},
   "outputs": [],
   "source": [
    "(x_train, y_train), (x_test, y_test) = mnist.load_data()"
   ]
  },
  {
   "cell_type": "code",
   "execution_count": 3,
   "metadata": {},
   "outputs": [
    {
     "data": {
      "image/png": "[encoded data removed]",
      "text/plain": [
       "<Figure size 432x288 with 1 Axes>"
      ]
     },
     "metadata": {
      "needs_background": "light"
     },
     "output_type": "display_data"
    }
   ],
   "source": [
    "digit = x_train[4]\n",
    "plt.imshow(digit, cmap=plt.cm.binary)\n",
    "plt.show()"
   ]
  },
  {
   "cell_type": "code",
   "execution_count": 20,
   "metadata": {},
   "outputs": [],
   "source": [
    "x_train_np = np.array(x_train)\n",
    "x_train_2d = np.reshape(x_train_np, (len(x_train_np), 28 * 28))\n",
    "\n",
    "x_test_np = np.array(x_test)\n",
    "x_test_2d = np.reshape(x_test_np, (len(x_test_np), 28 * 28))"
   ]
  },
  {
   "cell_type": "code",
   "execution_count": 8,
   "metadata": {},
   "outputs": [
    {
     "name": "stdout",
     "output_type": "stream",
     "text": [
      "[5 0 4 ... 5 6 8]\n",
      "[[0. 0. 0. ... 0. 0. 0.]\n",
      " [1. 0. 0. ... 0. 0. 0.]\n",
      " [0. 0. 0. ... 0. 0. 0.]\n",
      " ...\n",
      " [0. 0. 0. ... 0. 0. 0.]\n",
      " [0. 0. 0. ... 0. 0. 0.]\n",
      " [0. 0. 0. ... 0. 1. 0.]]\n"
     ]
    }
   ],
   "source": [
    "one_hot_train_labels = to_categorical(y_train)\n",
    "one_hot_test_labels = to_categorical(y_test)\n",
    "print(y_train)\n",
    "print(one_hot_train_labels)"
   ]
  },
  {
   "cell_type": "code",
   "execution_count": 6,
   "metadata": {},
   "outputs": [
    {
     "name": "stdout",
     "output_type": "stream",
     "text": [
      "[[[ 0  1]\n",
      "  [ 2  3]]\n",
      "\n",
      " [[ 4  5]\n",
      "  [ 6  7]]\n",
      "\n",
      " [[ 8  9]\n",
      "  [10 11]]]\n",
      "[[ 0  1  2  3]\n",
      " [ 4  5  6  7]\n",
      " [ 8  9 10 11]]\n"
     ]
    }
   ],
   "source": [
    "a = np.arange(12).reshape((3,2, 2))\n",
    "print(a)\n",
    "b = np.reshape(a, (3, 4))\n",
    "print(b)"
   ]
  },
  {
   "cell_type": "code",
   "execution_count": 17,
   "metadata": {},
   "outputs": [],
   "source": [
    "model = models.Sequential()\n",
    "model.add(layers.Dense(64, activation='relu', input_shape=(28*28,)))\n",
    "model.add(layers.Dense(64, activation='relu'))\n",
    "# softmax gives a probability distribution in an 1d array for the 10 cases.\n",
    "model.add(layers.Dense(10, activation='softmax'))\n",
    "# categorical_crossentropy calculates the distance between two vectors. To keep it a bit visually, just think of the distance calculation of 2d vectors.\n",
    "model.compile(optimizer='rmsprop', loss='categorical_crossentropy',metrics=['accuracy'])"
   ]
  },
  {
   "cell_type": "code",
   "execution_count": 18,
   "metadata": {},
   "outputs": [],
   "source": [
    "x_val = x_train_2d[:1000]\n",
    "partial_x_train = x_train_2d[1000:]\n",
    "y_val = one_hot_train_labels[:1000]\n",
    "partial_y_train = one_hot_train_labels[1000:]"
   ]
  },
  {
   "cell_type": "code",
   "execution_count": 19,
   "metadata": {},
   "outputs": [
    {
     "name": "stdout",
     "output_type": "stream",
     "text": [
      "Train on 59000 samples, validate on 1000 samples\n",
      "Epoch 1/20\n",
      "59000/59000 [==============================] - 1s 9us/step - loss: 5.8762 - accuracy: 0.7519 - val_loss: 1.6597 - val_accuracy: 0.8460\n",
      "Epoch 2/20\n",
      "59000/59000 [==============================] - 0s 7us/step - loss: 0.8860 - accuracy: 0.8887 - val_loss: 0.8776 - val_accuracy: 0.8970\n",
      "Epoch 3/20\n",
      "59000/59000 [==============================] - 0s 6us/step - loss: 0.5094 - accuracy: 0.9166 - val_loss: 0.5643 - val_accuracy: 0.9200\n",
      "Epoch 4/20\n",
      "59000/59000 [==============================] - 0s 6us/step - loss: 0.3465 - accuracy: 0.9331 - val_loss: 0.5345 - val_accuracy: 0.9160\n",
      "Epoch 5/20\n",
      "59000/59000 [==============================] - 0s 6us/step - loss: 0.2634 - accuracy: 0.9452 - val_loss: 0.4474 - val_accuracy: 0.9140\n",
      "Epoch 6/20\n",
      "59000/59000 [==============================] - 0s 6us/step - loss: 0.2142 - accuracy: 0.9522 - val_loss: 0.4097 - val_accuracy: 0.9320\n",
      "Epoch 7/20\n",
      "59000/59000 [==============================] - 0s 6us/step - loss: 0.1785 - accuracy: 0.9587 - val_loss: 0.3446 - val_accuracy: 0.9320\n",
      "Epoch 8/20\n",
      "59000/59000 [==============================] - 0s 6us/step - loss: 0.1494 - accuracy: 0.9637 - val_loss: 0.4360 - val_accuracy: 0.9300\n",
      "Epoch 9/20\n",
      "59000/59000 [==============================] - 0s 6us/step - loss: 0.1302 - accuracy: 0.9679 - val_loss: 0.4286 - val_accuracy: 0.9410\n",
      "Epoch 10/20\n",
      "59000/59000 [==============================] - 0s 6us/step - loss: 0.1196 - accuracy: 0.9700 - val_loss: 0.3861 - val_accuracy: 0.9460\n",
      "Epoch 11/20\n",
      "59000/59000 [==============================] - 0s 6us/step - loss: 0.1057 - accuracy: 0.9733 - val_loss: 0.3395 - val_accuracy: 0.9460\n",
      "Epoch 12/20\n",
      "59000/59000 [==============================] - 0s 7us/step - loss: 0.0931 - accuracy: 0.9747 - val_loss: 0.3719 - val_accuracy: 0.9340\n",
      "Epoch 13/20\n",
      "59000/59000 [==============================] - 0s 7us/step - loss: 0.0886 - accuracy: 0.9774 - val_loss: 0.2319 - val_accuracy: 0.9510\n",
      "Epoch 14/20\n",
      "59000/59000 [==============================] - 0s 7us/step - loss: 0.0781 - accuracy: 0.9788 - val_loss: 0.3365 - val_accuracy: 0.9400\n",
      "Epoch 15/20\n",
      "59000/59000 [==============================] - 0s 7us/step - loss: 0.0714 - accuracy: 0.9811 - val_loss: 0.3066 - val_accuracy: 0.9540\n",
      "Epoch 16/20\n",
      "59000/59000 [==============================] - 0s 7us/step - loss: 0.0674 - accuracy: 0.9813 - val_loss: 0.3046 - val_accuracy: 0.9510\n",
      "Epoch 17/20\n",
      "59000/59000 [==============================] - 0s 7us/step - loss: 0.0633 - accuracy: 0.9828 - val_loss: 0.3188 - val_accuracy: 0.9540\n",
      "Epoch 18/20\n",
      "59000/59000 [==============================] - 0s 7us/step - loss: 0.0554 - accuracy: 0.9844 - val_loss: 0.2945 - val_accuracy: 0.9560\n",
      "Epoch 19/20\n",
      "59000/59000 [==============================] - 0s 7us/step - loss: 0.0533 - accuracy: 0.9852 - val_loss: 0.2818 - val_accuracy: 0.9540\n",
      "Epoch 20/20\n",
      "59000/59000 [==============================] - 0s 6us/step - loss: 0.0495 - accuracy: 0.9862 - val_loss: 0.2801 - val_accuracy: 0.9660\n"
     ]
    }
   ],
   "source": [
    "history = model.fit(partial_x_train, partial_y_train,\n",
    "                    epochs=20,\n",
    "                    batch_size=512,\n",
    "                    validation_data=(x_val, y_val))"
   ]
  },
  {
   "cell_type": "code",
   "execution_count": 37,
   "metadata": {},
   "outputs": [
    {
     "data": {
      "image/png": "[encoded data removed]",
      "text/plain": [
       "<Figure size 432x288 with 1 Axes>"
      ]
     },
     "metadata": {
      "needs_background": "light"
     },
     "output_type": "display_data"
    },
    {
     "name": "stdout",
     "output_type": "stream",
     "text": [
      "I guess it is a 3, isn't it?\n"
     ]
    }
   ],
   "source": [
    "inputIndex = 30\n",
    "digit = x_test[inputIndex]\n",
    "plt.imshow(digit, cmap=plt.cm.binary)\n",
    "plt.show()\n",
    "\n",
    "predictions = model.predict(np.array([x_test_2d[inputIndex]]))\n",
    "\n",
    "predictedNumber = np.argmax(predictions[0])\n",
    "print('I guess it is a ' + str(predictedNumber) + ', isn\\'t it?')"
   ]
  },
  {
   "cell_type": "code",
   "execution_count": null,
   "metadata": {},
   "outputs": [],
   "source": []
  }
 ],
 "metadata": {
  "kernelspec": {
   "display_name": "env_python_3_6",
   "language": "python",
   "name": "env_python_3_6"
  },
  "language_info": {
   "codemirror_mode": {
    "name": "ipython",
    "version": 3
   },
   "file_extension": ".py",
   "mimetype": "text/x-python",
   "name": "python",
   "nbconvert_exporter": "python",
   "pygments_lexer": "ipython3",
   "version": "3.6.10"
  }
 },
 "nbformat": 4,
 "nbformat_minor": 4
}
