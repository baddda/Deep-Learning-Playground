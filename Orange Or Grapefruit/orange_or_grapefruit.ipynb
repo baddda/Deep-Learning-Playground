{
 "cells": [
  {
   "cell_type": "code",
   "execution_count": 2,
   "metadata": {},
   "outputs": [],
   "source": [
    "# https://www.kaggle.com/joshmcadams/oranges-vs-grapefruit/data"
   ]
  },
  {
   "cell_type": "code",
   "execution_count": 91,
   "metadata": {},
   "outputs": [],
   "source": [
    "import keras\n",
    "from keras.datasets import imdb\n",
    "from keras import models\n",
    "from keras import layers\n",
    "from keras import optimizers\n",
    "import numpy as np\n",
    "import pandas as pd\n",
    "import math\n",
    "import random"
   ]
  },
  {
   "cell_type": "code",
   "execution_count": 68,
   "metadata": {},
   "outputs": [
    {
     "name": "stdout",
     "output_type": "stream",
     "text": [
      "[['orange' 10.28 179.44 164 79 6]\n",
      " ['grapefruit' 13.53 229.35 145 77 14]\n",
      " ['grapefruit' 9.74 170.5 168 74 26]\n",
      " ...\n",
      " ['orange' 9.05 161.49 159 76 8]\n",
      " ['grapefruit' 11.47 197.81 165 81 12]\n",
      " ['orange' 8.7 155.79 144 90 4]]\n"
     ]
    }
   ],
   "source": [
    "rawCitrusData = pd.read_csv('citrus.csv', sep=',',header=1).values\n",
    "np.random.shuffle(rawCitrusData)\n",
    "print(rawCitrusData)"
   ]
  },
  {
   "cell_type": "code",
   "execution_count": 69,
   "metadata": {},
   "outputs": [
    {
     "name": "stdout",
     "output_type": "stream",
     "text": [
      "[[0 20 358 16 7 0]\n",
      " [1 27 458 14 7 1]\n",
      " [1 19 341 16 7 2]\n",
      " ...\n",
      " [0 18 322 15 7 0]\n",
      " [1 22 395 16 8 1]\n",
      " [0 17 311 14 9 0]]\n"
     ]
    }
   ],
   "source": [
    "# The idea will be to use binary arrays to feed the layers.\n",
    "citrusDataAsNumbers = [] # Orange 0; Grapefruit 1\n",
    "for item in rawCitrusData:\n",
    "    type = 0\n",
    "    if item[0] == 'grapefruit':\n",
    "        type = 1\n",
    "    newItem = np.append(np.array([type]), item[1:])\n",
    "    citrusDataAsNumbers.append(newItem)\n",
    "citrusDataAsNumbers = np.array(citrusDataAsNumbers)\n",
    "\n",
    "for x in citrusDataAsNumbers:\n",
    "    x[1] = math.ceil(x[1] * 100)\n",
    "    x[2] = math.ceil(x[2] * 100)\n",
    "    \n",
    "    x[1] = x[1]//50\n",
    "    x[2] = x[2]//50\n",
    "    x[3] = x[3]//10\n",
    "    x[4] = x[4]//10\n",
    "    x[5] = x[5]//10\n",
    "\n",
    "print(citrusDataAsNumbers)\n"
   ]
  },
  {
   "cell_type": "code",
   "execution_count": 70,
   "metadata": {
    "scrolled": true
   },
   "outputs": [
    {
     "name": "stdout",
     "output_type": "stream",
     "text": [
      "[[0. 0. 0. ... 0. 0. 0.]\n",
      " [0. 0. 0. ... 0. 0. 0.]\n",
      " [0. 0. 0. ... 0. 0. 0.]\n",
      " ...\n",
      " [0. 0. 0. ... 0. 0. 0.]\n",
      " [0. 0. 0. ... 0. 0. 0.]\n",
      " [0. 0. 0. ... 0. 0. 0.]]\n"
     ]
    }
   ],
   "source": [
    "modelInputData = np.zeros((len(citrusDataAsNumbers), 4000))\n",
    "for index, value in enumerate(citrusDataAsNumbers):\n",
    "    modelInputData[index][0 + value[1]] = 1\n",
    "    modelInputData[index][1000 + value[2]] = 1\n",
    "    modelInputData[index][2000 + value[3]] = 1\n",
    "    modelInputData[index][3000 + value[4]] = 1\n",
    "    \n",
    "print(modelInputData)"
   ]
  },
  {
   "cell_type": "code",
   "execution_count": 71,
   "metadata": {},
   "outputs": [
    {
     "name": "stdout",
     "output_type": "stream",
     "text": [
      "[[0. 0. 0. ... 0. 0. 0.]\n",
      " [0. 0. 0. ... 0. 0. 0.]\n",
      " [0. 0. 0. ... 0. 0. 0.]\n",
      " ...\n",
      " [0. 0. 0. ... 0. 0. 0.]\n",
      " [0. 0. 0. ... 0. 0. 0.]\n",
      " [0. 0. 0. ... 0. 0. 0.]]\n",
      "[0. 1. 1. ... 0. 1. 0.]\n"
     ]
    }
   ],
   "source": [
    "all_x_data = modelInputData\n",
    "all_y_data = np.zeros(len(citrusDataAsNumbers))\n",
    "\n",
    "for index, value in enumerate(citrusDataAsNumbers):\n",
    "    all_y_data[index] = citrusDataAsNumbers[index][0]\n",
    "\n",
    "print(all_x_data)\n",
    "print(all_y_data)"
   ]
  },
  {
   "cell_type": "code",
   "execution_count": 72,
   "metadata": {
    "scrolled": true
   },
   "outputs": [
    {
     "name": "stdout",
     "output_type": "stream",
     "text": [
      "9999\n",
      "5000\n",
      "4999\n",
      "9999\n",
      "5000\n",
      "4999\n"
     ]
    }
   ],
   "source": [
    "x_train = all_x_data[::2]\n",
    "x_test = all_x_data[1::2]\n",
    "print(len(all_x_data))\n",
    "print(len(x_train))\n",
    "print(len(x_test))\n",
    "    \n",
    "y_train = all_y_data[::2]\n",
    "y_test = all_y_data[1::2]\n",
    "print(len(all_y_data))\n",
    "print(len(y_train))\n",
    "print(len(y_test))\n",
    "    "
   ]
  },
  {
   "cell_type": "code",
   "execution_count": 73,
   "metadata": {},
   "outputs": [
    {
     "name": "stdout",
     "output_type": "stream",
     "text": [
      "Epoch 1/4\n",
      "5000/5000 [==============================] - 0s 58us/step - loss: 0.6765 - accuracy: 0.7142\n",
      "Epoch 2/4\n",
      "5000/5000 [==============================] - 0s 34us/step - loss: 0.6209 - accuracy: 0.8784\n",
      "Epoch 3/4\n",
      "5000/5000 [==============================] - 0s 34us/step - loss: 0.5598 - accuracy: 0.8990\n",
      "Epoch 4/4\n",
      "5000/5000 [==============================] - 0s 34us/step - loss: 0.5042 - accuracy: 0.9038\n",
      "4999/4999 [==============================] - 0s 30us/step\n",
      "[0.48154339426802406, 0.896379292011261]\n"
     ]
    }
   ],
   "source": [
    "model = models.Sequential()\n",
    "model.add(layers.Dense(16, activation='relu', input_shape=(4000,)))\n",
    "model.add(layers.Dense(16, activation='relu'))\n",
    "model.add(layers.Dense(1, activation='sigmoid'))\n",
    "\n",
    "model.compile(optimizer='rmsprop', loss='binary_crossentropy',\n",
    "                  metrics=['accuracy'])\n",
    "\n",
    "# Train the network.\n",
    "model.fit(x_train, y_train, epochs=4, batch_size=512)\n",
    "results = model.evaluate(x_test, y_test)\n",
    "print(results)"
   ]
  },
  {
   "cell_type": "code",
   "execution_count": 119,
   "metadata": {},
   "outputs": [
    {
     "name": "stdout",
     "output_type": "stream",
     "text": [
      "[[0. 0. 0. ... 0. 0. 0.]]\n",
      "['orange' 7.76 141.46 154 74 9]\n",
      "It is an grapefruit, I am 29% sure.\n"
     ]
    }
   ],
   "source": [
    "customInputIndex = random.randint(0,4000)\n",
    "x_custom = np.array([all_x_data[customInputIndex]])\n",
    "custom_raw = rawCitrusData[customInputIndex]\n",
    "print(x_custom)\n",
    "print(custom_raw)\n",
    "prediction = model.predict(x_custom)\n",
    "print('It is an grapefruit, I am ' + str(math.ceil(prediction[0][0] * 100)) + '% sure.')"
   ]
  },
  {
   "cell_type": "code",
   "execution_count": null,
   "metadata": {},
   "outputs": [],
   "source": []
  },
  {
   "cell_type": "code",
   "execution_count": null,
   "metadata": {},
   "outputs": [],
   "source": []
  }
 ],
 "metadata": {
  "kernelspec": {
   "display_name": "env_python_3_6",
   "language": "python",
   "name": "env_python_3_6"
  },
  "language_info": {
   "codemirror_mode": {
    "name": "ipython",
    "version": 3
   },
   "file_extension": ".py",
   "mimetype": "text/x-python",
   "name": "python",
   "nbconvert_exporter": "python",
   "pygments_lexer": "ipython3",
   "version": "3.6.10"
  }
 },
 "nbformat": 4,
 "nbformat_minor": 4
}
