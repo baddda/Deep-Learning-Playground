{
 "cells": [
  {
   "cell_type": "code",
   "execution_count": null,
   "metadata": {},
   "outputs": [],
   "source": [
    "# Data set: https://www.kaggle.com/aungpyaeap/fish-market\n",
    "# Method: multiple linear regression\n",
    "\n",
    "# To help visualize the difference between simple and multiple regression:\n",
    "# Simple regression (2d space): We have a 2d coordinage system, where we try to find the best line for all data points.\n",
    "# Multiple Regression (3d space): We have 3d coordinate system, where we try to find the best plain for all data points.\n",
    "# Mutiple Regression (xd space): Same principle, but hard to imagine."
   ]
  },
  {
   "cell_type": "code",
   "execution_count": null,
   "metadata": {},
   "outputs": [],
   "source": []
  },
  {
   "cell_type": "code",
   "execution_count": null,
   "metadata": {},
   "outputs": [],
   "source": []
  }
 ],
 "metadata": {
  "kernelspec": {
   "display_name": "Python 3",
   "language": "python",
   "name": "python3"
  },
  "language_info": {
   "codemirror_mode": {
    "name": "ipython",
    "version": 3
   },
   "file_extension": ".py",
   "mimetype": "text/x-python",
   "name": "python",
   "nbconvert_exporter": "python",
   "pygments_lexer": "ipython3",
   "version": "3.7.3"
  }
 },
 "nbformat": 4,
 "nbformat_minor": 4
}
